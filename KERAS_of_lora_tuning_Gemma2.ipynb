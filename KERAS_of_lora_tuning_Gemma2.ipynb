{
  "cells": [
    {
      "cell_type": "markdown",
      "metadata": {
        "id": "view-in-github",
        "colab_type": "text"
      },
      "source": [
        "<a href=\"https://colab.research.google.com/github/joansantoso/aimlsurabaya/blob/main/KERAS_of_lora_tuning_Gemma2.ipynb\" target=\"_parent\"><img src=\"https://colab.research.google.com/assets/colab-badge.svg\" alt=\"Open In Colab\"/></a>"
      ]
    },
    {
      "cell_type": "code",
      "execution_count": 3,
      "metadata": {
        "id": "0_EdOg9DPK6Q"
      },
      "outputs": [],
      "source": [
        "import os\n",
        "from google.colab import userdata\n",
        "os.environ[\"KAGGLE_USERNAME\"] = userdata.get('KAGGLE_USERNAME')\n",
        "os.environ[\"KAGGLE_KEY\"] = userdata.get('KAGGLE_KEY')"
      ]
    },
    {
      "cell_type": "markdown",
      "metadata": {
        "id": "CuEUAKJW1QkQ"
      },
      "source": [
        "### Install dependencies"
      ]
    },
    {
      "cell_type": "code",
      "execution_count": 4,
      "metadata": {
        "id": "1eeBtYqJsZPG"
      },
      "outputs": [],
      "source": [
        "# Install Keras 3 last. See https://keras.io/getting_started/ for more details.\n",
        "!pip install -q -U keras-nlp\n",
        "!pip install -q -U keras>=3"
      ]
    },
    {
      "cell_type": "markdown",
      "metadata": {
        "id": "rGLS-l5TxIR4"
      },
      "source": [
        "### Select a backend\n",
        "\n",
        "Keras is a high-level, multi-framework deep learning API designed for simplicity and ease of use. For this tutorial, configure the backend for JAX.\n"
      ]
    },
    {
      "cell_type": "code",
      "execution_count": 5,
      "metadata": {
        "id": "yn5uy8X8sdD0"
      },
      "outputs": [],
      "source": [
        "os.environ[\"KERAS_BACKEND\"] = \"jax\"\n",
        "# Avoid memory fragmentation on JAX backend.\n",
        "os.environ[\"XLA_PYTHON_CLIENT_MEM_FRACTION\"]=\"1.00\""
      ]
    },
    {
      "cell_type": "markdown",
      "metadata": {
        "id": "hZs8XXqUKRmi"
      },
      "source": [
        "### Import packages\n",
        "\n",
        "Import Keras and KerasNLP."
      ]
    },
    {
      "cell_type": "code",
      "execution_count": 6,
      "metadata": {
        "id": "FYHyPUA9hKTf"
      },
      "outputs": [],
      "source": [
        "import keras\n",
        "import keras_nlp"
      ]
    },
    {
      "cell_type": "markdown",
      "metadata": {
        "id": "9T7xe_jzslv4"
      },
      "source": [
        "## Dataset"
      ]
    },
    {
      "cell_type": "code",
      "execution_count": 7,
      "metadata": {
        "id": "z-OMqInschGO"
      },
      "outputs": [],
      "source": [
        "train_contexts = [\n",
        "    \"Website iSTTS: https://www.istts.ac.id/\",\n",
        "    \"Website pendaftaran iSTTS : https://pmb.istts.ac.id/manajemen/?menu=pendaftaran_online&page=pendaftaran_s1\",\n",
        "    \"iSTTS merupakan sekolah teknik terbaik di Jawa Timur, dan sudah berdiri lebih dari 40 tahun untuk terus mengabdi pada bangsa dan negara Indonesia\",\n",
        "    \"iSTTS memiliki dua fakultas yaitu fakultas teknik dan desain yang sangat selaras dengan teknologi yang sedang berkembang di dunia\",\n",
        "    \"Untuk fakultas teknik terdapat D3 Sistem Informasi, S1 Teknik Elektro, S1 Informatika, S1 Teknik Industri, S1 Sistem Informasi Bisnis, S1 Informatika profesional (kelas malam)\",\n",
        "    \"Untuk fakultas desain terdapat S1 Desain Produk, S1 Desain Komunikasi Visual\",\n",
        "    \"iSTTS menyediakan Magister Teknologi Informasi\",\n",
        "    \"iSTTS menyediakan Bachelor International Program yang merupakan program dual degree, pada program ini iSTTS bekerja sama dengan Swinburne university of technology di australia, Murdoch university di singapore, Dongseo university di korea\",\n",
        "    \"D3 Sistem Informasi memfokuskan pada Web Desain, Jaringan Komputer, serta Basis Data dan Sistem Informasi untuk menghasilkan tenaga kerja profesional\",\n",
        "    \"S1 Teknik Elektro memberikan konsep dan pengembangan perangkat keras maupun perangkat lunak yang terfokus pada Industrial Automation dan Industrial Internet of Things (IoT)\",\n",
        "    \"S1 Informatika belajar memanfaatkan komputasi untuk problem solving menggunakan teknologi informasi yang memiliki 3 penjurusan yaitu, Software Technology, Computational Intelligence, dan Internet Technology\",\n",
        "    \"S1 Teknik Industri memberikan pengajaran mengenai melakukan pengelolaan sistem yang memiliki penjurusan terkait Manufacturing System dan Quality Management\",\n",
        "    \"S1 Sistem Informasi Bisnis yang menggabungkan Information Technology (IT) dan dunia Bisnis, serta memiliki 3 fokus pendidikan yaitu, Information Science, Multimedia and Game Technology, dan Social Media Business\",\n",
        "    \"S1 Informatika profesional (kelas malam) menyediakan para perkerja yang melanjutkan studinya ataupun bagi para lulusan SMA yang ingin kuliah sambil bekerja dengan fokus pendidikan, antara lain Kewirausahaan serta Java dan .NET\",\n",
        "    \"S1 Desain Produk memadukan desain dan teknologi otomasi untuk menghasilkan produk yang tidak hanya menarik secara tampilan, tetapi memiliki fungsi smart product. S1 Desain Produk memiliki 4 fokus pendidikan, yaitu Desain Produk Cerdas, Desain Kriya Modern, Desain Transportasi, dan Desain Interior\",\n",
        "    \"S1 Desain Komunikasi Visual berfokus pada 3 pilar utama yaitu Seni, Teknologi, dan Bisnis. S1 Desain Komunikasi Visual memiliki 4 fokus pendidikan, yaitu Animasi, Perfilman, Ilustrasi, dan Fotografi\",\n",
        "    \"Magister Teknologi Informasi memberikan pengetahuan dan wawasan tentang teknologi Informasi terbaru yang disertai dengan penggunaan dan pemanfaatan dalam dunia kerja. IT Utilization dan Artificial Intelligence merupakan 2 fokus pendidikan di Magister Teknologi Informasi\",\n",
        "    \"iSTTS Memiliki 4 Laboratorium Komputer yang berada di L204, L304, L404, serta E401\",\n",
        "    \"iSTTS Memiliki Research Laboratory untuk melakukan riset-riset mengenai teknologi-teknologi baru yang muncul\",\n",
        "    \"iSTTS Juga memiliki fasilitas lain seperti Lapangan, Ruang Band, Theater, serta 2 Perpustakaan\",\n",
        "    \"iSTTS Menyediakan sertifikasi yang dapat diambil oleh mahasiswa, seperti AWS, RedHat, MikroTik, Cisco, dan lain-lain\",\n",
        "    \"Mahasiswa dapat masuk iSTTS tanpa melakukan tes masuk\"\n",
        "]\n",
        "\n",
        "train_questions_answers = [\n",
        "    {\n",
        "        \"context_index\": 0,\n",
        "        \"question\": \"Apakah website iSTTS?\",\n",
        "        \"answer\": \"https://www.istts.ac.id\"\n",
        "    },\n",
        "    {\n",
        "        \"context_index\": 0,\n",
        "        \"question\": \"Apakah iSTTS mempunyai website?\",\n",
        "        \"answer\": \"Ya, iSTTS memiliki website yang terdapat di https://www.istts.ac.id\"\n",
        "    },\n",
        "    {\n",
        "        \"context_index\": 1,\n",
        "        \"question\": \"Apakah website pendaftaran iSTTS?\",\n",
        "        \"answer\": \"https://pmb.istts.ac.id/manajemen/?menu=pendaftaran_online&page=pendaftaran_s1\"\n",
        "    },\n",
        "    {\n",
        "        \"context_index\": 1,\n",
        "        \"question\": \"Di manakah untuk melakukan pendaftaran iSTTS?\",\n",
        "        \"answer\": \"Pendaftaran iSTTS bisa dilakukan di halaman website https://pmb.istts.ac.id/manajemen/?menu=pendaftaran_online&page=pendaftaran_s1\"\n",
        "    },\n",
        "    {\n",
        "        \"context_index\": 1,\n",
        "        \"question\": \"Apakah iSTTS memiliki website pendaftaran?\",\n",
        "        \"answer\": \"Ya, iSTTS memiliki website pendaftaran yang terdapat di https://pmb.istts.ac.id/manajemen/?menu=pendaftaran_online&page=pendaftaran_s1\"\n",
        "    },\n",
        "    {\n",
        "        \"context_index\": 2,\n",
        "        \"question\": \"Apa itu iSTTS?\",\n",
        "        \"answer\": \"iSTTS merupakan sekolah teknik terbaik di Jawa Timur dan sudah berdiri lebih dari 40 tahun untuk terus mengabdi pada bangsa dan negara Indonesia\"\n",
        "    },\n",
        "    {\n",
        "        \"context_index\": 2,\n",
        "        \"question\": \"Sudah berapa lama iSTTS berdiri?\",\n",
        "        \"answer\": \"iSTTS sudah berdiri lebih dari 40 tahun\"\n",
        "    },\n",
        "    {\n",
        "        \"context_index\": 3,\n",
        "        \"question\": \"Apa saja fakultas yang ada di iSTTS?\",\n",
        "        \"answer\": \"iSTTS memiliki dua fakultas yaitu fakultas teknik dan desain\"\n",
        "    },\n",
        "    {\n",
        "        \"context_index\": 4,\n",
        "        \"question\": \"Apa saja program studi yang ada di fakultas teknik iSTTS?\",\n",
        "        \"answer\": \"Terdapat D3 Sistem Informasi, S1 Teknik Elektro, S1 Informatika, S1 Teknik Industri, S1 Sistem Informasi Bisnis, dan S1 Informatika Profesional (kelas malam)\"\n",
        "    },\n",
        "    {\n",
        "        \"context_index\": 5,\n",
        "        \"question\": \"Apa saja program studi yang ada di fakultas desain iSTTS?\",\n",
        "        \"answer\": \"Terdapat S1 Desain Produk dan S1 Desain Komunikasi Visual\"\n",
        "    },\n",
        "    {\n",
        "        \"context_index\": 6,\n",
        "        \"question\": \"Apakah terdapat program studi untuk lanjutan di iSTTS?\",\n",
        "        \"answer\": \"iSTTS juga menyediakan program Magister untuk Teknologi Informasi\"\n",
        "    },\n",
        "    {\n",
        "        \"context_index\": 7,\n",
        "        \"question\": \"Apakah iSTTS menyediakan program studi untuk ke luar negeri?\",\n",
        "        \"answer\": \"Ya, iSTTS menyediakan program Bachelor International Program yang merupakan program dual degree\"\n",
        "    },\n",
        "    {\n",
        "        \"context_index\": 7,\n",
        "        \"question\": \"Apakah iSTTS memiliki hubungan kerja sama dengan universitas lain?\",\n",
        "        \"answer\": \"Ya, iSTTS memiliki beberapa hubungan kerja sama dengan universitas di luar negeri untuk dual degree. Terdapat Swinburne university of technology di Australia, Murdoch university di Singapore, dan Dongseo university di Korea\"\n",
        "    },\n",
        "    {\n",
        "        \"context_index\": 7,\n",
        "        \"question\": \"Apa ada kerja sama dengan iSTTS di Australia?\",\n",
        "        \"answer\": \"Ya ada, iSTTS memiliki kerja sama dengan Swinburne university of technology di Australia untuk program dual degree\"\n",
        "    },\n",
        "    {\n",
        "        \"context_index\": 7,\n",
        "        \"question\": \"Apa ada kerja sama dengan iSTTS di Singapore?\",\n",
        "        \"answer\": \"Ya ada, iSTTS memiliki kerja sama dengan Murdoch univerrsity di Singapore untuk program dual degree\"\n",
        "    },\n",
        "    {\n",
        "        \"context_index\": 7,\n",
        "        \"question\": \"Apa ada kerja sama dengan iSTTS di Korea?\",\n",
        "        \"answer\": \"Ya ada, iSTTS memiliki kerja sama dengan Dongseo university di Korea untuk program dual degree\"\n",
        "    },\n",
        "    {\n",
        "        \"context_index\": 8,\n",
        "        \"question\": \"Apabila ingin untuk fokus pada Web Desain program studi apa yang harus saya ambil di iSTTS?\",\n",
        "        \"answer\": \"Di iSTTS program studi D3 Sistem Informasi berfokus pada Web Desain, Jaringan Komputer, Basis Data, dan Sistem Informasi\"\n",
        "    },\n",
        "    {\n",
        "        \"context_index\": 8,\n",
        "        \"question\": \"Apabila ingin untuk fokus pada Jaringan Komputer program studi apa yang harus saya ambil di iSTTS?\",\n",
        "        \"answer\": \"Di iSTTS program studi D3 Sistem Informasi berfokus pada Web Desain, Jaringan Komputer, Basis Data, dan Sistem Informasi\"\n",
        "    },\n",
        "    {\n",
        "        \"context_index\": 8,\n",
        "        \"question\": \"Apabila ingin untuk fokus pada Basis Data program studi apa yang harus saya ambil di iSTTS?\",\n",
        "        \"answer\": \"Di iSTTS program studi D3 Sistem Informasi berfokus pada Web Desain, Jaringan Komputer, Basis Data, dan Sistem Informasi\"\n",
        "    },\n",
        "    {\n",
        "        \"context_index\": 8,\n",
        "        \"question\": \"Apabila ingin untuk fokus pada Sistem Informasi program studi apa yang harus saya ambil di iSTTS?\",\n",
        "        \"answer\": \"Di iSTTS program studi D3 Sistem Informasi berfokus pada Web Desain, Jaringan Komputer, Basis Data, dan Sistem Informasi\"\n",
        "    },\n",
        "    {\n",
        "        \"context_index\": 9,\n",
        "        \"question\": \"Apabila ingin untuk belajar mengenai perangkat keras program studi apa yang harus saya ambil di iSTTS?\",\n",
        "        \"answer\": \"Di iSTTS program studi S1 Teknik Elektro memberikan konsep dan pengembangan perangkat keras maupun perangkat lunak\"\n",
        "    },\n",
        "    {\n",
        "        \"context_index\": 9,\n",
        "        \"question\": \"Apabila ingin untuk fokus pada Industrial Automation program studi apa yang harus saya ambil di iSTTS?\",\n",
        "        \"answer\": \"Di iSTTS program studi S1 Teknik Elektro memiliki fokus penjurusan pada Industrial Automation\"\n",
        "    },\n",
        "    {\n",
        "        \"context_index\": 9,\n",
        "        \"question\": \"Apabila ingin untuk fokus pada IoT program studi apa yang harus saya ambil di iSTTS?\",\n",
        "        \"answer\": \"Di iSTTS program studi S1 Teknik Elektro memiliki fokus penjurusan pada Internet of Things (IoT)\"\n",
        "    },\n",
        "    {\n",
        "        \"context_index\": 9,\n",
        "        \"question\": \"Apa saja penjurusan program studi Teknik Elektro di iSTTS?\",\n",
        "        \"answer\": \"Di iSTTS program studi S1 Teknik Elektro memiliki 2 penjurusan, yaitu Industrial Automation dan Industrial Internet of Things (IoT)\"\n",
        "    },\n",
        "    {\n",
        "        \"context_index\": 10,\n",
        "        \"question\": \"Apabila ingin untuk belajar untuk coding program studi apa yang harus saya ambil di iSTTS?\",\n",
        "        \"answer\": \"Di iSTTS program studi S1 Informatika belajar memanfaatkan komputasi untuk problem solving menggunakan teknologi informasi\"\n",
        "    },\n",
        "    {\n",
        "        \"context_index\": 10,\n",
        "        \"question\": \"Apabila ingin untuk fokus pada metode perancangan pembuatan aplikasi program studi apa yang harus saya ambil di iSTTS?\",\n",
        "        \"answer\": \"Di iSTTS program studi S1 Informatika memiliki fokus pembelajaran pada Software Technology\"\n",
        "    },\n",
        "    {\n",
        "        \"context_index\": 10,\n",
        "        \"question\": \"Apabila ingin untuk fokus pada AI program studi apa yang harus saya ambil di iSTTS?\",\n",
        "        \"answer\": \"Di iSTTS program studi S1 Informatika memiliki fokus pembelajaran pada Computational Intelligence\"\n",
        "    },\n",
        "    {\n",
        "        \"context_index\": 10,\n",
        "        \"question\": \"Apabila ingin untuk fokus pada jaringan internet program studi apa yang harus saya ambil di iSTTS?\",\n",
        "        \"answer\": \"Di iSTTS program studi S1 Informatika memiliki fokus pembelajaran pada Internet Technology\"\n",
        "    },\n",
        "    {\n",
        "        \"context_index\": 10,\n",
        "        \"question\": \"Apa saja penjurusan program studi Informatika di iSTTS?\",\n",
        "        \"answer\": \"Di iSTTS program studi S1 Informatika memiliki 3 penjurusan, yaitu Software Technology, Computational Intelligence, dan Internet Technology\"\n",
        "    },\n",
        "    {\n",
        "        \"context_index\": 11,\n",
        "        \"question\": \"Apa saja penjurusan program studi Teknik Industri di iSTTS?\",\n",
        "        \"answer\": \"Di iSTTS program studi S1 Teknik Industri memiliki 2 penjurusan, yaitu Manufacturing System dan Quality Management\"\n",
        "    },\n",
        "    {\n",
        "        \"context_index\": 11,\n",
        "        \"question\": \"Apabila ingin untuk fokus pada pengelolaan sistem program studi apa yang harus saya ambil di iSTTS?\",\n",
        "        \"answer\": \"Di iSTTS program studi S1 Teknik Industri memberikan pengajaran mengenai melakukan pengelolaan sistem\"\n",
        "    },\n",
        "    {\n",
        "        \"context_index\": 11,\n",
        "        \"question\": \"Apabila ingin untuk fokus pada mengelola Manufacturing System program studi apa yang harus saya ambil di iSTTS?\",\n",
        "        \"answer\": \"Di iSTTS program studi S1 Teknik Industri memiliki penjurusan Manufacturing System\"\n",
        "    },\n",
        "    {\n",
        "        \"context_index\": 11,\n",
        "        \"question\": \"Apabila ingin untuk fokus pada Quality Management saat mengelola suatu sistem program studi apa yang harus saya ambil di iSTTS?\",\n",
        "        \"answer\": \"Di iSTTS program studi S1 Teknik Industri memiliki penjurusan terkait Quality Management\"\n",
        "    },\n",
        "    {\n",
        "        \"context_index\": 12,\n",
        "        \"question\": \"Apa saja penjurusan program studi Sistem Informasi Bisnis di iSTTS?\",\n",
        "        \"answer\": \"Di iSTTS program studi S1 Sistem Informasi Bisnis memiliki 3 penjurusan, yaitu Information Science, Multimedia and Game Technology, dan Social Media Business\"\n",
        "    },\n",
        "    {\n",
        "        \"context_index\": 12,\n",
        "        \"question\": \"Apabila ingin untuk belajar IT dan bisnis program studi apa yang harus saya ambil di iSTTS?\",\n",
        "        \"answer\": \"Di iSTTS program studi S1 Sistem Informasi Bisnis yang menggabungkan Information Technology (IT) dan dunia Bisnis\"\n",
        "    },\n",
        "    {\n",
        "        \"context_index\": 12,\n",
        "        \"question\": \"Apabila ingin untuk belajar Game development program studi apa yang harus saya ambil di iSTTS?\",\n",
        "        \"answer\": \"Di iSTTS program studi S1 Sistem Informasi Bisnis memiliki fokus pendidikan Multimedia and Game Technology yang bisa merambah ke Game Development\"\n",
        "    },\n",
        "    {\n",
        "        \"context_index\": 12,\n",
        "        \"question\": \"Apabila ingin untuk belajar mengenai AI tapi untuk bisnis program studi apa yang harus saya ambil di iSTTS?\",\n",
        "        \"answer\": \"Di iSTTS program studi S1 Sistem Informasi Bisnis memiliki fokus pendidikan Information Science yang bertujuan untuk menghasilkan AI untuk dunia bisnis\"\n",
        "    },\n",
        "    {\n",
        "        \"context_index\": 12,\n",
        "        \"question\": \"Apabila ingin untuk belajar mengenai digital business program studi apa yang harus saya ambil di iSTTS?\",\n",
        "        \"answer\": \"Di iSTTS program studi S1 Sistem Informasi Bisnis memiliki fokus pendidikan Social Media Business yang mengajarkan untuk membuat digital business\"\n",
        "    },\n",
        "    {\n",
        "        \"context_index\": 13,\n",
        "        \"question\": \"Apabila ingin untuk belajar namun sambil bekerja program studi apa yang harus saya ambil di iSTTS?\",\n",
        "        \"answer\": \"Di iSTTS program studi S1 Informatika profesional (kelas malam) tersedia untuk orang yang ingin kuliah sambil bekerja\"\n",
        "    },\n",
        "    {\n",
        "        \"context_index\": 13,\n",
        "        \"question\": \"Apa saja fokus pendidikan S1 Informatika Profesional?\",\n",
        "        \"answer\": \"Di iSTTS program studi S1 Informatika profesional (kelas malam) memiliki fokus pendidikan antara lain Kewirausahaan, Java, dan .NET\"\n",
        "    },\n",
        "    {\n",
        "        \"context_index\": 14,\n",
        "        \"question\": \"Apabila ingin belajar untuk cara yang baik menghasilkan produk program studi apa yang harus saya ambil di iSTTS?\",\n",
        "        \"answer\": \"Di iSTTS program studi S1 Desain Produk memadukan desain dan teknologi otomasi untuk menghasilkan produk yang tidak hanya menarik secara tampilan namun memiliki fungsi smart product\"\n",
        "    },\n",
        "    {\n",
        "        \"context_index\": 14,\n",
        "        \"question\": \"Apabila ingin belajar untuk merancang interior program studi apa yang harus saya ambil di iSTTS?\",\n",
        "        \"answer\": \"Di iSTTS program studi S1 Desain Produk memiliki penjurusan Desain Interior\"\n",
        "    },\n",
        "    {\n",
        "        \"context_index\": 14,\n",
        "        \"question\": \"Apabila ingin belajar untuk merancang produk cerdas program studi apa yang harus saya ambil di iSTTS?\",\n",
        "        \"answer\": \"Di iSTTS program studi S1 Desain Produk memiliki penjurusan Desain Produk Cerdas\"\n",
        "    },\n",
        "    {\n",
        "        \"context_index\": 14,\n",
        "        \"question\": \"Apa saja penjurusan pada program studi Teknik Industri di iSTTS?\",\n",
        "        \"answer\": \"Di iSTTS program studi S1 Desain Produk memiliki 4 penjurusan, yaitu Desain Produk Cerdas, Desain Kriya Modern, Desain Transportasi, dan Desain Interior\"\n",
        "    },\n",
        "    {\n",
        "        \"context_index\": 15,\n",
        "        \"question\": \"Apabila ingin belajar fotografi program studi apa yang harus saya ambil di iSTTS?\",\n",
        "        \"answer\": \"Di iSTTS program studi S1 Desain Komunikasi Visual memiliki penjurusan Fotografi\"\n",
        "    },\n",
        "    {\n",
        "        \"context_index\": 15,\n",
        "        \"question\": \"Apabila ingin belajar untuk membuat film program studi apa yang harus saya ambil di iSTTS?\",\n",
        "        \"answer\": \"Di iSTTS program studi S1 Desain Komunikasi Visual memiliki penjurusan Perfilman\"\n",
        "    },\n",
        "    {\n",
        "        \"context_index\": 15,\n",
        "        \"question\": \"Apabila ingin belajar untuk membuat animasi program studi apa yang harus saya ambil di iSTTS?\",\n",
        "        \"answer\": \"Di iSTTS program studi S1 Desain Komunikasi Visual memiliki penjurusan Animasi\"\n",
        "    },\n",
        "    {\n",
        "        \"context_index\": 15,\n",
        "        \"question\": \"Apabila ingin belajar melukis program studi apa yang harus saya ambil di iSTTS?\",\n",
        "        \"answer\": \"Di iSTTS program studi S1 Desain Komunikasi Visual memiliki penjurusan Ilustrasi\"\n",
        "    },\n",
        "    {\n",
        "        \"context_index\": 15,\n",
        "        \"question\": \"Apa saja penjurusan pada program studi Desain Komunikasi Visual di iSTTS?\",\n",
        "        \"answer\": \"Di iSTTS program studi S1 Desain Komunikasi Visual memiliki penjurusan 4, yaitu Animasi, Perfilman, Ilustrasi, dan Fotografi\"\n",
        "    },\n",
        "    {\n",
        "        \"context_index\": 16,\n",
        "        \"question\": \"Apa saja fokus pembelajaran program studi Magister Teknologi Informasi di iSTTS?\",\n",
        "        \"answer\": \"Di iSTTS program studi Magister Teknologi Informasi memiliki 2 fokus pembelajaran, yaitu IT Utilization dan Artificial Intelligence\"\n",
        "    },\n",
        "    {\n",
        "        \"context_index\": 17,\n",
        "        \"question\": \"Apa saja fasilitas di iSTTS?\",\n",
        "        \"answer\": \"Di iSTTS terdapat 4 Laboratorium Komputer\"\n",
        "    },\n",
        "    {\n",
        "        \"context_index\": 18,\n",
        "        \"question\": \"Apakah saya bisa melakukan riset di iSTTS?\",\n",
        "        \"answer\": \"Di iSTTS juga terdapat Research Laboratory untuk melakukan riset mengenai teknologi terbaru\"\n",
        "    },\n",
        "    {\n",
        "        \"context_index\": 19,\n",
        "        \"question\": \"Apa saja fasilitas di iSTTS?\",\n",
        "        \"answer\": \"Di iSTTS terdapat Lapangan, Ruang Band, Theater, dan 2 Perpustakaan\"\n",
        "    },\n",
        "    {\n",
        "        \"context_index\": 20,\n",
        "        \"question\": \"Apakah iSTTS menyediakan program untuk sertifikasi?\",\n",
        "        \"answer\": \"Di iSTTS menyediakan banyak program sertifikasi seperti AWS, RedHat, MikroTik, Cisco, dan lain-lain\"\n",
        "    },\n",
        "    {\n",
        "        \"context_index\": 21,\n",
        "        \"question\": \"Apakah saya perlu melakukan tes untuk masuk ke iSTTS?\",\n",
        "        \"answer\": \"Mahasiswa dapat masuk iSTTS tanpa melakukan tes masuk\"\n",
        "    },\n",
        "]"
      ]
    },
    {
      "cell_type": "markdown",
      "metadata": {
        "id": "45UpBDfBgf0I"
      },
      "source": [
        "Preprocess the data. This tutorial uses a only use small amount of data. Consider using more training data for higher quality fine-tuning."
      ]
    },
    {
      "cell_type": "code",
      "execution_count": 8,
      "metadata": {
        "id": "ZiS-KU9osh_N"
      },
      "outputs": [],
      "source": [
        "data = []\n",
        "for features in train_questions_answers:\n",
        "  features['context'] = train_contexts[features['context_index']]\n",
        "  template = \"<start_of_turn>user\\n{question}<end_of_turn>\\n<start_of_turn>model\\nContext adalah {context}\\nJadi jawabannya adalah {answer}<end_of_turn>\\n\"\n",
        "  data.append(template.format(**features))"
      ]
    },
    {
      "cell_type": "code",
      "source": [
        "data[0]"
      ],
      "metadata": {
        "colab": {
          "base_uri": "https://localhost:8080/",
          "height": 35
        },
        "id": "sv20nRTiMwxX",
        "outputId": "8686b192-db5d-4e94-fd98-566e771627a3"
      },
      "execution_count": 9,
      "outputs": [
        {
          "output_type": "execute_result",
          "data": {
            "text/plain": [
              "'<start_of_turn>user\\nApakah website iSTTS?<end_of_turn>\\n<start_of_turn>model\\nContext adalah Website iSTTS: https://www.istts.ac.id/\\nJadi jawabannya adalah https://www.istts.ac.id<end_of_turn>\\n'"
            ],
            "application/vnd.google.colaboratory.intrinsic+json": {
              "type": "string"
            }
          },
          "metadata": {},
          "execution_count": 9
        }
      ]
    },
    {
      "cell_type": "markdown",
      "metadata": {
        "id": "7RCE3fdGhDE5"
      },
      "source": [
        "## Load Model"
      ]
    },
    {
      "cell_type": "code",
      "execution_count": 10,
      "metadata": {
        "colab": {
          "base_uri": "https://localhost:8080/",
          "height": 408
        },
        "id": "vz5zLEyLstfn",
        "outputId": "53596619-e04b-4583-e1a6-d8b4424d3d87"
      },
      "outputs": [
        {
          "output_type": "display_data",
          "data": {
            "text/plain": [
              "\u001b[1mPreprocessor: \"gemma_causal_lm_preprocessor\"\u001b[0m\n"
            ],
            "text/html": [
              "<pre style=\"white-space:pre;overflow-x:auto;line-height:normal;font-family:Menlo,'DejaVu Sans Mono',consolas,'Courier New',monospace\"><span style=\"font-weight: bold\">Preprocessor: \"gemma_causal_lm_preprocessor\"</span>\n",
              "</pre>\n"
            ]
          },
          "metadata": {}
        },
        {
          "output_type": "display_data",
          "data": {
            "text/plain": [
              "┏━━━━━━━━━━━━━━━━━━━━━━━━━━━━━━━━━━━━━━━━━━━━━━━━━━━━━━━━━━━━━━━┳━━━━━━━━━━━━━━━━━━━━━━━━━━━━━━━━━━━━━━━━━━┓\n",
              "┃\u001b[1m \u001b[0m\u001b[1mLayer (type)                                                 \u001b[0m\u001b[1m \u001b[0m┃\u001b[1m \u001b[0m\u001b[1m                                  Config\u001b[0m\u001b[1m \u001b[0m┃\n",
              "┡━━━━━━━━━━━━━━━━━━━━━━━━━━━━━━━━━━━━━━━━━━━━━━━━━━━━━━━━━━━━━━━╇━━━━━━━━━━━━━━━━━━━━━━━━━━━━━━━━━━━━━━━━━━┩\n",
              "│ gemma_tokenizer (\u001b[38;5;33mGemmaTokenizer\u001b[0m)                              │                      Vocab size: \u001b[38;5;34m256,000\u001b[0m │\n",
              "└───────────────────────────────────────────────────────────────┴──────────────────────────────────────────┘\n"
            ],
            "text/html": [
              "<pre style=\"white-space:pre;overflow-x:auto;line-height:normal;font-family:Menlo,'DejaVu Sans Mono',consolas,'Courier New',monospace\">┏━━━━━━━━━━━━━━━━━━━━━━━━━━━━━━━━━━━━━━━━━━━━━━━━━━━━━━━━━━━━━━━┳━━━━━━━━━━━━━━━━━━━━━━━━━━━━━━━━━━━━━━━━━━┓\n",
              "┃<span style=\"font-weight: bold\"> Layer (type)                                                  </span>┃<span style=\"font-weight: bold\">                                   Config </span>┃\n",
              "┡━━━━━━━━━━━━━━━━━━━━━━━━━━━━━━━━━━━━━━━━━━━━━━━━━━━━━━━━━━━━━━━╇━━━━━━━━━━━━━━━━━━━━━━━━━━━━━━━━━━━━━━━━━━┩\n",
              "│ gemma_tokenizer (<span style=\"color: #0087ff; text-decoration-color: #0087ff\">GemmaTokenizer</span>)                              │                      Vocab size: <span style=\"color: #00af00; text-decoration-color: #00af00\">256,000</span> │\n",
              "└───────────────────────────────────────────────────────────────┴──────────────────────────────────────────┘\n",
              "</pre>\n"
            ]
          },
          "metadata": {}
        },
        {
          "output_type": "display_data",
          "data": {
            "text/plain": [
              "\u001b[1mModel: \"gemma_causal_lm\"\u001b[0m\n"
            ],
            "text/html": [
              "<pre style=\"white-space:pre;overflow-x:auto;line-height:normal;font-family:Menlo,'DejaVu Sans Mono',consolas,'Courier New',monospace\"><span style=\"font-weight: bold\">Model: \"gemma_causal_lm\"</span>\n",
              "</pre>\n"
            ]
          },
          "metadata": {}
        },
        {
          "output_type": "display_data",
          "data": {
            "text/plain": [
              "┏━━━━━━━━━━━━━━━━━━━━━━━━━━━━━━━┳━━━━━━━━━━━━━━━━━━━━━━━━━━━┳━━━━━━━━━━━━━━━━━┳━━━━━━━━━━━━━━━━━━━━━━━━━━━━┓\n",
              "┃\u001b[1m \u001b[0m\u001b[1mLayer (type)                 \u001b[0m\u001b[1m \u001b[0m┃\u001b[1m \u001b[0m\u001b[1mOutput Shape             \u001b[0m\u001b[1m \u001b[0m┃\u001b[1m \u001b[0m\u001b[1m        Param #\u001b[0m\u001b[1m \u001b[0m┃\u001b[1m \u001b[0m\u001b[1mConnected to              \u001b[0m\u001b[1m \u001b[0m┃\n",
              "┡━━━━━━━━━━━━━━━━━━━━━━━━━━━━━━━╇━━━━━━━━━━━━━━━━━━━━━━━━━━━╇━━━━━━━━━━━━━━━━━╇━━━━━━━━━━━━━━━━━━━━━━━━━━━━┩\n",
              "│ padding_mask (\u001b[38;5;33mInputLayer\u001b[0m)     │ (\u001b[38;5;45mNone\u001b[0m, \u001b[38;5;45mNone\u001b[0m)              │               \u001b[38;5;34m0\u001b[0m │ -                          │\n",
              "├───────────────────────────────┼───────────────────────────┼─────────────────┼────────────────────────────┤\n",
              "│ token_ids (\u001b[38;5;33mInputLayer\u001b[0m)        │ (\u001b[38;5;45mNone\u001b[0m, \u001b[38;5;45mNone\u001b[0m)              │               \u001b[38;5;34m0\u001b[0m │ -                          │\n",
              "├───────────────────────────────┼───────────────────────────┼─────────────────┼────────────────────────────┤\n",
              "│ gemma_backbone                │ (\u001b[38;5;45mNone\u001b[0m, \u001b[38;5;45mNone\u001b[0m, \u001b[38;5;34m2304\u001b[0m)        │   \u001b[38;5;34m2,614,341,888\u001b[0m │ padding_mask[\u001b[38;5;34m0\u001b[0m][\u001b[38;5;34m0\u001b[0m],        │\n",
              "│ (\u001b[38;5;33mGemmaBackbone\u001b[0m)               │                           │                 │ token_ids[\u001b[38;5;34m0\u001b[0m][\u001b[38;5;34m0\u001b[0m]            │\n",
              "├───────────────────────────────┼───────────────────────────┼─────────────────┼────────────────────────────┤\n",
              "│ token_embedding               │ (\u001b[38;5;45mNone\u001b[0m, \u001b[38;5;45mNone\u001b[0m, \u001b[38;5;34m256000\u001b[0m)      │     \u001b[38;5;34m589,824,000\u001b[0m │ gemma_backbone[\u001b[38;5;34m0\u001b[0m][\u001b[38;5;34m0\u001b[0m]       │\n",
              "│ (\u001b[38;5;33mReversibleEmbedding\u001b[0m)         │                           │                 │                            │\n",
              "└───────────────────────────────┴───────────────────────────┴─────────────────┴────────────────────────────┘\n"
            ],
            "text/html": [
              "<pre style=\"white-space:pre;overflow-x:auto;line-height:normal;font-family:Menlo,'DejaVu Sans Mono',consolas,'Courier New',monospace\">┏━━━━━━━━━━━━━━━━━━━━━━━━━━━━━━━┳━━━━━━━━━━━━━━━━━━━━━━━━━━━┳━━━━━━━━━━━━━━━━━┳━━━━━━━━━━━━━━━━━━━━━━━━━━━━┓\n",
              "┃<span style=\"font-weight: bold\"> Layer (type)                  </span>┃<span style=\"font-weight: bold\"> Output Shape              </span>┃<span style=\"font-weight: bold\">         Param # </span>┃<span style=\"font-weight: bold\"> Connected to               </span>┃\n",
              "┡━━━━━━━━━━━━━━━━━━━━━━━━━━━━━━━╇━━━━━━━━━━━━━━━━━━━━━━━━━━━╇━━━━━━━━━━━━━━━━━╇━━━━━━━━━━━━━━━━━━━━━━━━━━━━┩\n",
              "│ padding_mask (<span style=\"color: #0087ff; text-decoration-color: #0087ff\">InputLayer</span>)     │ (<span style=\"color: #00d7ff; text-decoration-color: #00d7ff\">None</span>, <span style=\"color: #00d7ff; text-decoration-color: #00d7ff\">None</span>)              │               <span style=\"color: #00af00; text-decoration-color: #00af00\">0</span> │ -                          │\n",
              "├───────────────────────────────┼───────────────────────────┼─────────────────┼────────────────────────────┤\n",
              "│ token_ids (<span style=\"color: #0087ff; text-decoration-color: #0087ff\">InputLayer</span>)        │ (<span style=\"color: #00d7ff; text-decoration-color: #00d7ff\">None</span>, <span style=\"color: #00d7ff; text-decoration-color: #00d7ff\">None</span>)              │               <span style=\"color: #00af00; text-decoration-color: #00af00\">0</span> │ -                          │\n",
              "├───────────────────────────────┼───────────────────────────┼─────────────────┼────────────────────────────┤\n",
              "│ gemma_backbone                │ (<span style=\"color: #00d7ff; text-decoration-color: #00d7ff\">None</span>, <span style=\"color: #00d7ff; text-decoration-color: #00d7ff\">None</span>, <span style=\"color: #00af00; text-decoration-color: #00af00\">2304</span>)        │   <span style=\"color: #00af00; text-decoration-color: #00af00\">2,614,341,888</span> │ padding_mask[<span style=\"color: #00af00; text-decoration-color: #00af00\">0</span>][<span style=\"color: #00af00; text-decoration-color: #00af00\">0</span>],        │\n",
              "│ (<span style=\"color: #0087ff; text-decoration-color: #0087ff\">GemmaBackbone</span>)               │                           │                 │ token_ids[<span style=\"color: #00af00; text-decoration-color: #00af00\">0</span>][<span style=\"color: #00af00; text-decoration-color: #00af00\">0</span>]            │\n",
              "├───────────────────────────────┼───────────────────────────┼─────────────────┼────────────────────────────┤\n",
              "│ token_embedding               │ (<span style=\"color: #00d7ff; text-decoration-color: #00d7ff\">None</span>, <span style=\"color: #00d7ff; text-decoration-color: #00d7ff\">None</span>, <span style=\"color: #00af00; text-decoration-color: #00af00\">256000</span>)      │     <span style=\"color: #00af00; text-decoration-color: #00af00\">589,824,000</span> │ gemma_backbone[<span style=\"color: #00af00; text-decoration-color: #00af00\">0</span>][<span style=\"color: #00af00; text-decoration-color: #00af00\">0</span>]       │\n",
              "│ (<span style=\"color: #0087ff; text-decoration-color: #0087ff\">ReversibleEmbedding</span>)         │                           │                 │                            │\n",
              "└───────────────────────────────┴───────────────────────────┴─────────────────┴────────────────────────────┘\n",
              "</pre>\n"
            ]
          },
          "metadata": {}
        },
        {
          "output_type": "display_data",
          "data": {
            "text/plain": [
              "\u001b[1m Total params: \u001b[0m\u001b[38;5;34m2,614,341,888\u001b[0m (9.74 GB)\n"
            ],
            "text/html": [
              "<pre style=\"white-space:pre;overflow-x:auto;line-height:normal;font-family:Menlo,'DejaVu Sans Mono',consolas,'Courier New',monospace\"><span style=\"font-weight: bold\"> Total params: </span><span style=\"color: #00af00; text-decoration-color: #00af00\">2,614,341,888</span> (9.74 GB)\n",
              "</pre>\n"
            ]
          },
          "metadata": {}
        },
        {
          "output_type": "display_data",
          "data": {
            "text/plain": [
              "\u001b[1m Trainable params: \u001b[0m\u001b[38;5;34m2,614,341,888\u001b[0m (9.74 GB)\n"
            ],
            "text/html": [
              "<pre style=\"white-space:pre;overflow-x:auto;line-height:normal;font-family:Menlo,'DejaVu Sans Mono',consolas,'Courier New',monospace\"><span style=\"font-weight: bold\"> Trainable params: </span><span style=\"color: #00af00; text-decoration-color: #00af00\">2,614,341,888</span> (9.74 GB)\n",
              "</pre>\n"
            ]
          },
          "metadata": {}
        },
        {
          "output_type": "display_data",
          "data": {
            "text/plain": [
              "\u001b[1m Non-trainable params: \u001b[0m\u001b[38;5;34m0\u001b[0m (0.00 B)\n"
            ],
            "text/html": [
              "<pre style=\"white-space:pre;overflow-x:auto;line-height:normal;font-family:Menlo,'DejaVu Sans Mono',consolas,'Courier New',monospace\"><span style=\"font-weight: bold\"> Non-trainable params: </span><span style=\"color: #00af00; text-decoration-color: #00af00\">0</span> (0.00 B)\n",
              "</pre>\n"
            ]
          },
          "metadata": {}
        }
      ],
      "source": [
        "gemma_lm = keras_nlp.models.GemmaCausalLM.from_preset(\"gemma2_instruct_2b_en\")\n",
        "gemma_lm.summary()"
      ]
    },
    {
      "cell_type": "markdown",
      "metadata": {
        "id": "G_L6A5J-1QgC"
      },
      "source": [
        "##Inference before fine tuning\n"
      ]
    },
    {
      "cell_type": "markdown",
      "metadata": {
        "id": "ykG20t2jfLPe"
      },
      "source": [
        "### Define formatting helper functions"
      ]
    },
    {
      "cell_type": "code",
      "execution_count": 11,
      "metadata": {
        "id": "6W8tvEkCfO8T"
      },
      "outputs": [],
      "source": [
        "from IPython.display import Markdown\n",
        "import textwrap\n",
        "\n",
        "def display_chat(prompt, text):\n",
        "  formatted_prompt = \"<font size='+1' color='brown'>🙋‍♂️<blockquote>\" + prompt + \"</blockquote></font>\"\n",
        "  text = text.replace('•', '  *')\n",
        "  text = textwrap.indent(text, '> ', predicate=lambda _: True)\n",
        "  formatted_text = \"<font size='+1' color='teal'>🤖\\n\\n\" + text + \"\\n</font>\"\n",
        "  return Markdown(formatted_prompt+formatted_text)\n",
        "\n",
        "def to_markdown(text):\n",
        "  text = text.replace('•', '  *')\n",
        "  return Markdown(textwrap.indent(text, '> ', predicate=lambda _: True))\n"
      ]
    },
    {
      "cell_type": "markdown",
      "metadata": {
        "id": "zHWWePMufVzE"
      },
      "source": [
        "### Create a chat helper to manage the conversation state"
      ]
    },
    {
      "cell_type": "code",
      "execution_count": 12,
      "metadata": {
        "id": "rwznNzQPfYNl"
      },
      "outputs": [],
      "source": [
        "class ChatState():\n",
        "  \"\"\"\n",
        "  Manages the conversation history for a turn-based chatbot\n",
        "  Follows the turn-based conversation guidelines for the Gemma family of models\n",
        "  documented at https://ai.google.dev/gemma/docs/formatting\n",
        "  \"\"\"\n",
        "\n",
        "  __START_TURN_USER__ = \"<start_of_turn>user\\n\"\n",
        "  __START_TURN_MODEL__ = \"<start_of_turn>model\\n\"\n",
        "  __END_TURN__ = \"<end_of_turn>\\n\"\n",
        "\n",
        "  def __init__(self, model, system=\"\"):\n",
        "    \"\"\"\n",
        "    Initializes the chat state.\n",
        "\n",
        "    Args:\n",
        "        model: The language model to use for generating responses.\n",
        "        system: (Optional) System instructions or bot description.\n",
        "    \"\"\"\n",
        "    self.model = model\n",
        "    self.system = system\n",
        "    self.history = []\n",
        "\n",
        "  def add_to_history_as_user(self, message):\n",
        "      \"\"\"\n",
        "      Adds a user message to the history with start/end turn markers.\n",
        "      \"\"\"\n",
        "      self.history.append(self.__START_TURN_USER__ + message + self.__END_TURN__)\n",
        "\n",
        "  def add_to_history_as_model(self, message):\n",
        "      \"\"\"\n",
        "      Adds a model response to the history with start/end turn markers.\n",
        "      \"\"\"\n",
        "      self.history.append(self.__START_TURN_MODEL__ + message + self.__END_TURN__)\n",
        "\n",
        "  def get_history(self):\n",
        "      \"\"\"\n",
        "      Returns the entire chat history as a single string.\n",
        "      \"\"\"\n",
        "      return \"\".join([*self.history])\n",
        "\n",
        "  def get_full_prompt(self):\n",
        "    \"\"\"\n",
        "    Builds the prompt for the language model, including history and system description.\n",
        "    \"\"\"\n",
        "    prompt = self.get_history() + self.__START_TURN_MODEL__\n",
        "    if len(self.system)>0:\n",
        "      prompt = self.system + \"\\n\" + prompt\n",
        "    return prompt\n",
        "\n",
        "  def send_message(self, message):\n",
        "    \"\"\"\n",
        "    Handles sending a user message and getting a model response.\n",
        "\n",
        "    Args:\n",
        "        message: The user's message.\n",
        "\n",
        "    Returns:\n",
        "        The model's response.\n",
        "    \"\"\"\n",
        "    self.add_to_history_as_user(message)\n",
        "    prompt = self.get_full_prompt()\n",
        "    response = self.model.generate(prompt, max_length=1024)\n",
        "    result = response.replace(prompt, \"\")  # Extract only the new response\n",
        "    self.add_to_history_as_model(result)\n",
        "    return result"
      ]
    },
    {
      "cell_type": "markdown",
      "metadata": {
        "id": "PVLXadptyo34"
      },
      "source": [
        "### Chatting\n",
        "\n",
        "Query the model for checking it's knowledge about iSTTS"
      ]
    },
    {
      "cell_type": "code",
      "execution_count": 13,
      "metadata": {
        "id": "ZwQz3xxxKciD",
        "colab": {
          "base_uri": "https://localhost:8080/",
          "height": 788
        },
        "outputId": "40b3324e-789f-475b-b843-42979a5424e7"
      },
      "outputs": [
        {
          "output_type": "execute_result",
          "data": {
            "text/plain": [
              "<IPython.core.display.Markdown object>"
            ],
            "text/markdown": "<font size='+1' color='brown'>🙋‍♂️<blockquote>Apakah kamu pernah tau mengenai iSTTS?</blockquote></font><font size='+1' color='teal'>🤖\n\n> Ya, saya tahu tentang iSTTS! \n> \n> **iSTTS** adalah singkatan dari **Indonesian Standard Test for Technical Skills**. \n> \n> Ini adalah tes standar yang digunakan untuk menilai keahlian teknis di Indonesia. \n> \n> **Berikut beberapa informasi tentang iSTTS:**\n> \n> * **Tujuan:** Tes ini bertujuan untuk mengukur kemampuan teknis peserta dalam bidang tertentu, seperti:\n>     * Teknologi informasi\n>     * Teknik komputer\n>     * Teknik manufaktur\n>     * dll.\n> * **Format:** Tes iSTTS biasanya berupa soal pilihan ganda, dengan beberapa jenis soal seperti:\n>     * Soal berbasis teks\n>     * Soal berbasis gambar\n>     * Soal berbasis video\n> * **Penggunaan:** Tes ini sering digunakan untuk:\n>     * Seleksi calon karyawan di berbagai bidang\n>     * Penilaian keahlian peserta pelatihan\n>     * Penilaian keahlian peserta program studi\n> * **Standar:** iSTTS memiliki standar yang ditetapkan oleh lembaga pemerintah Indonesia.\n> \n> **Apakah kamu ingin tahu lebih lanjut tentang iSTTS?** \n> \n> Misalnya, kamu bisa bertanya tentang:\n> \n> * **Cara persiapan untuk iSTTS**\n> * **Contoh soal iSTTS**\n> * **Informasi mengenai lembaga yang menerbitkan iSTTS**\n> * **Informasi mengenai biaya iSTTS**\n> \n> \n> Silahkan beri tahu saya apa yang ingin kamu ketahui! \n> <end_of_turn>\n</font>"
          },
          "metadata": {},
          "execution_count": 13
        }
      ],
      "source": [
        "chat = ChatState(gemma_lm)\n",
        "message = \"Apakah kamu pernah tau mengenai iSTTS?\"\n",
        "display_chat(message, chat.send_message(message))"
      ]
    },
    {
      "cell_type": "markdown",
      "metadata": {
        "id": "AePQUIs2h-Ks"
      },
      "source": [
        "The model will not know the answer to a very specific topic\n",
        "\n",
        "\n"
      ]
    },
    {
      "cell_type": "markdown",
      "metadata": {
        "id": "Pt7Nr6a7tItO"
      },
      "source": [
        "## LoRA Fine-tuning\n"
      ]
    },
    {
      "cell_type": "code",
      "execution_count": 14,
      "metadata": {
        "colab": {
          "base_uri": "https://localhost:8080/",
          "height": 408
        },
        "id": "RCucu6oHz53G",
        "outputId": "aedc514e-1ba0-4467-c0d0-94b6e1740367"
      },
      "outputs": [
        {
          "output_type": "display_data",
          "data": {
            "text/plain": [
              "\u001b[1mPreprocessor: \"gemma_causal_lm_preprocessor\"\u001b[0m\n"
            ],
            "text/html": [
              "<pre style=\"white-space:pre;overflow-x:auto;line-height:normal;font-family:Menlo,'DejaVu Sans Mono',consolas,'Courier New',monospace\"><span style=\"font-weight: bold\">Preprocessor: \"gemma_causal_lm_preprocessor\"</span>\n",
              "</pre>\n"
            ]
          },
          "metadata": {}
        },
        {
          "output_type": "display_data",
          "data": {
            "text/plain": [
              "┏━━━━━━━━━━━━━━━━━━━━━━━━━━━━━━━━━━━━━━━━━━━━━━━━━━━━━━━━━━━━━━━┳━━━━━━━━━━━━━━━━━━━━━━━━━━━━━━━━━━━━━━━━━━┓\n",
              "┃\u001b[1m \u001b[0m\u001b[1mLayer (type)                                                 \u001b[0m\u001b[1m \u001b[0m┃\u001b[1m \u001b[0m\u001b[1m                                  Config\u001b[0m\u001b[1m \u001b[0m┃\n",
              "┡━━━━━━━━━━━━━━━━━━━━━━━━━━━━━━━━━━━━━━━━━━━━━━━━━━━━━━━━━━━━━━━╇━━━━━━━━━━━━━━━━━━━━━━━━━━━━━━━━━━━━━━━━━━┩\n",
              "│ gemma_tokenizer (\u001b[38;5;33mGemmaTokenizer\u001b[0m)                              │                      Vocab size: \u001b[38;5;34m256,000\u001b[0m │\n",
              "└───────────────────────────────────────────────────────────────┴──────────────────────────────────────────┘\n"
            ],
            "text/html": [
              "<pre style=\"white-space:pre;overflow-x:auto;line-height:normal;font-family:Menlo,'DejaVu Sans Mono',consolas,'Courier New',monospace\">┏━━━━━━━━━━━━━━━━━━━━━━━━━━━━━━━━━━━━━━━━━━━━━━━━━━━━━━━━━━━━━━━┳━━━━━━━━━━━━━━━━━━━━━━━━━━━━━━━━━━━━━━━━━━┓\n",
              "┃<span style=\"font-weight: bold\"> Layer (type)                                                  </span>┃<span style=\"font-weight: bold\">                                   Config </span>┃\n",
              "┡━━━━━━━━━━━━━━━━━━━━━━━━━━━━━━━━━━━━━━━━━━━━━━━━━━━━━━━━━━━━━━━╇━━━━━━━━━━━━━━━━━━━━━━━━━━━━━━━━━━━━━━━━━━┩\n",
              "│ gemma_tokenizer (<span style=\"color: #0087ff; text-decoration-color: #0087ff\">GemmaTokenizer</span>)                              │                      Vocab size: <span style=\"color: #00af00; text-decoration-color: #00af00\">256,000</span> │\n",
              "└───────────────────────────────────────────────────────────────┴──────────────────────────────────────────┘\n",
              "</pre>\n"
            ]
          },
          "metadata": {}
        },
        {
          "output_type": "display_data",
          "data": {
            "text/plain": [
              "\u001b[1mModel: \"gemma_causal_lm\"\u001b[0m\n"
            ],
            "text/html": [
              "<pre style=\"white-space:pre;overflow-x:auto;line-height:normal;font-family:Menlo,'DejaVu Sans Mono',consolas,'Courier New',monospace\"><span style=\"font-weight: bold\">Model: \"gemma_causal_lm\"</span>\n",
              "</pre>\n"
            ]
          },
          "metadata": {}
        },
        {
          "output_type": "display_data",
          "data": {
            "text/plain": [
              "┏━━━━━━━━━━━━━━━━━━━━━━━━━━━━━━━┳━━━━━━━━━━━━━━━━━━━━━━━━━━━┳━━━━━━━━━━━━━━━━━┳━━━━━━━━━━━━━━━━━━━━━━━━━━━━┓\n",
              "┃\u001b[1m \u001b[0m\u001b[1mLayer (type)                 \u001b[0m\u001b[1m \u001b[0m┃\u001b[1m \u001b[0m\u001b[1mOutput Shape             \u001b[0m\u001b[1m \u001b[0m┃\u001b[1m \u001b[0m\u001b[1m        Param #\u001b[0m\u001b[1m \u001b[0m┃\u001b[1m \u001b[0m\u001b[1mConnected to              \u001b[0m\u001b[1m \u001b[0m┃\n",
              "┡━━━━━━━━━━━━━━━━━━━━━━━━━━━━━━━╇━━━━━━━━━━━━━━━━━━━━━━━━━━━╇━━━━━━━━━━━━━━━━━╇━━━━━━━━━━━━━━━━━━━━━━━━━━━━┩\n",
              "│ padding_mask (\u001b[38;5;33mInputLayer\u001b[0m)     │ (\u001b[38;5;45mNone\u001b[0m, \u001b[38;5;45mNone\u001b[0m)              │               \u001b[38;5;34m0\u001b[0m │ -                          │\n",
              "├───────────────────────────────┼───────────────────────────┼─────────────────┼────────────────────────────┤\n",
              "│ token_ids (\u001b[38;5;33mInputLayer\u001b[0m)        │ (\u001b[38;5;45mNone\u001b[0m, \u001b[38;5;45mNone\u001b[0m)              │               \u001b[38;5;34m0\u001b[0m │ -                          │\n",
              "├───────────────────────────────┼───────────────────────────┼─────────────────┼────────────────────────────┤\n",
              "│ gemma_backbone                │ (\u001b[38;5;45mNone\u001b[0m, \u001b[38;5;45mNone\u001b[0m, \u001b[38;5;34m2304\u001b[0m)        │   \u001b[38;5;34m2,617,270,528\u001b[0m │ padding_mask[\u001b[38;5;34m0\u001b[0m][\u001b[38;5;34m0\u001b[0m],        │\n",
              "│ (\u001b[38;5;33mGemmaBackbone\u001b[0m)               │                           │                 │ token_ids[\u001b[38;5;34m0\u001b[0m][\u001b[38;5;34m0\u001b[0m]            │\n",
              "├───────────────────────────────┼───────────────────────────┼─────────────────┼────────────────────────────┤\n",
              "│ token_embedding               │ (\u001b[38;5;45mNone\u001b[0m, \u001b[38;5;45mNone\u001b[0m, \u001b[38;5;34m256000\u001b[0m)      │     \u001b[38;5;34m589,824,000\u001b[0m │ gemma_backbone[\u001b[38;5;34m0\u001b[0m][\u001b[38;5;34m0\u001b[0m]       │\n",
              "│ (\u001b[38;5;33mReversibleEmbedding\u001b[0m)         │                           │                 │                            │\n",
              "└───────────────────────────────┴───────────────────────────┴─────────────────┴────────────────────────────┘\n"
            ],
            "text/html": [
              "<pre style=\"white-space:pre;overflow-x:auto;line-height:normal;font-family:Menlo,'DejaVu Sans Mono',consolas,'Courier New',monospace\">┏━━━━━━━━━━━━━━━━━━━━━━━━━━━━━━━┳━━━━━━━━━━━━━━━━━━━━━━━━━━━┳━━━━━━━━━━━━━━━━━┳━━━━━━━━━━━━━━━━━━━━━━━━━━━━┓\n",
              "┃<span style=\"font-weight: bold\"> Layer (type)                  </span>┃<span style=\"font-weight: bold\"> Output Shape              </span>┃<span style=\"font-weight: bold\">         Param # </span>┃<span style=\"font-weight: bold\"> Connected to               </span>┃\n",
              "┡━━━━━━━━━━━━━━━━━━━━━━━━━━━━━━━╇━━━━━━━━━━━━━━━━━━━━━━━━━━━╇━━━━━━━━━━━━━━━━━╇━━━━━━━━━━━━━━━━━━━━━━━━━━━━┩\n",
              "│ padding_mask (<span style=\"color: #0087ff; text-decoration-color: #0087ff\">InputLayer</span>)     │ (<span style=\"color: #00d7ff; text-decoration-color: #00d7ff\">None</span>, <span style=\"color: #00d7ff; text-decoration-color: #00d7ff\">None</span>)              │               <span style=\"color: #00af00; text-decoration-color: #00af00\">0</span> │ -                          │\n",
              "├───────────────────────────────┼───────────────────────────┼─────────────────┼────────────────────────────┤\n",
              "│ token_ids (<span style=\"color: #0087ff; text-decoration-color: #0087ff\">InputLayer</span>)        │ (<span style=\"color: #00d7ff; text-decoration-color: #00d7ff\">None</span>, <span style=\"color: #00d7ff; text-decoration-color: #00d7ff\">None</span>)              │               <span style=\"color: #00af00; text-decoration-color: #00af00\">0</span> │ -                          │\n",
              "├───────────────────────────────┼───────────────────────────┼─────────────────┼────────────────────────────┤\n",
              "│ gemma_backbone                │ (<span style=\"color: #00d7ff; text-decoration-color: #00d7ff\">None</span>, <span style=\"color: #00d7ff; text-decoration-color: #00d7ff\">None</span>, <span style=\"color: #00af00; text-decoration-color: #00af00\">2304</span>)        │   <span style=\"color: #00af00; text-decoration-color: #00af00\">2,617,270,528</span> │ padding_mask[<span style=\"color: #00af00; text-decoration-color: #00af00\">0</span>][<span style=\"color: #00af00; text-decoration-color: #00af00\">0</span>],        │\n",
              "│ (<span style=\"color: #0087ff; text-decoration-color: #0087ff\">GemmaBackbone</span>)               │                           │                 │ token_ids[<span style=\"color: #00af00; text-decoration-color: #00af00\">0</span>][<span style=\"color: #00af00; text-decoration-color: #00af00\">0</span>]            │\n",
              "├───────────────────────────────┼───────────────────────────┼─────────────────┼────────────────────────────┤\n",
              "│ token_embedding               │ (<span style=\"color: #00d7ff; text-decoration-color: #00d7ff\">None</span>, <span style=\"color: #00d7ff; text-decoration-color: #00d7ff\">None</span>, <span style=\"color: #00af00; text-decoration-color: #00af00\">256000</span>)      │     <span style=\"color: #00af00; text-decoration-color: #00af00\">589,824,000</span> │ gemma_backbone[<span style=\"color: #00af00; text-decoration-color: #00af00\">0</span>][<span style=\"color: #00af00; text-decoration-color: #00af00\">0</span>]       │\n",
              "│ (<span style=\"color: #0087ff; text-decoration-color: #0087ff\">ReversibleEmbedding</span>)         │                           │                 │                            │\n",
              "└───────────────────────────────┴───────────────────────────┴─────────────────┴────────────────────────────┘\n",
              "</pre>\n"
            ]
          },
          "metadata": {}
        },
        {
          "output_type": "display_data",
          "data": {
            "text/plain": [
              "\u001b[1m Total params: \u001b[0m\u001b[38;5;34m2,617,270,528\u001b[0m (9.75 GB)\n"
            ],
            "text/html": [
              "<pre style=\"white-space:pre;overflow-x:auto;line-height:normal;font-family:Menlo,'DejaVu Sans Mono',consolas,'Courier New',monospace\"><span style=\"font-weight: bold\"> Total params: </span><span style=\"color: #00af00; text-decoration-color: #00af00\">2,617,270,528</span> (9.75 GB)\n",
              "</pre>\n"
            ]
          },
          "metadata": {}
        },
        {
          "output_type": "display_data",
          "data": {
            "text/plain": [
              "\u001b[1m Trainable params: \u001b[0m\u001b[38;5;34m2,928,640\u001b[0m (11.17 MB)\n"
            ],
            "text/html": [
              "<pre style=\"white-space:pre;overflow-x:auto;line-height:normal;font-family:Menlo,'DejaVu Sans Mono',consolas,'Courier New',monospace\"><span style=\"font-weight: bold\"> Trainable params: </span><span style=\"color: #00af00; text-decoration-color: #00af00\">2,928,640</span> (11.17 MB)\n",
              "</pre>\n"
            ]
          },
          "metadata": {}
        },
        {
          "output_type": "display_data",
          "data": {
            "text/plain": [
              "\u001b[1m Non-trainable params: \u001b[0m\u001b[38;5;34m2,614,341,888\u001b[0m (9.74 GB)\n"
            ],
            "text/html": [
              "<pre style=\"white-space:pre;overflow-x:auto;line-height:normal;font-family:Menlo,'DejaVu Sans Mono',consolas,'Courier New',monospace\"><span style=\"font-weight: bold\"> Non-trainable params: </span><span style=\"color: #00af00; text-decoration-color: #00af00\">2,614,341,888</span> (9.74 GB)\n",
              "</pre>\n"
            ]
          },
          "metadata": {}
        }
      ],
      "source": [
        "# Enable LoRA for the model and set the LoRA rank to 4.\n",
        "gemma_lm.backbone.enable_lora(rank=4)\n",
        "gemma_lm.summary()"
      ]
    },
    {
      "cell_type": "code",
      "execution_count": 15,
      "metadata": {
        "colab": {
          "base_uri": "https://localhost:8080/"
        },
        "id": "_Peq7TnLtHse",
        "outputId": "b003851b-2b1e-4a19-bcc5-f2aa1bdebae1"
      },
      "outputs": [
        {
          "output_type": "stream",
          "name": "stdout",
          "text": [
            "Epoch 1/20\n",
            "\u001b[1m55/55\u001b[0m \u001b[32m━━━━━━━━━━━━━━━━━━━━\u001b[0m\u001b[37m\u001b[0m \u001b[1m89s\u001b[0m 745ms/step - loss: 0.7954 - sparse_categorical_accuracy: 0.4182\n",
            "Epoch 2/20\n",
            "\u001b[1m55/55\u001b[0m \u001b[32m━━━━━━━━━━━━━━━━━━━━\u001b[0m\u001b[37m\u001b[0m \u001b[1m41s\u001b[0m 343ms/step - loss: 0.6558 - sparse_categorical_accuracy: 0.4461\n",
            "Epoch 3/20\n",
            "\u001b[1m55/55\u001b[0m \u001b[32m━━━━━━━━━━━━━━━━━━━━\u001b[0m\u001b[37m\u001b[0m \u001b[1m19s\u001b[0m 348ms/step - loss: 0.5137 - sparse_categorical_accuracy: 0.5124\n",
            "Epoch 4/20\n",
            "\u001b[1m55/55\u001b[0m \u001b[32m━━━━━━━━━━━━━━━━━━━━\u001b[0m\u001b[37m\u001b[0m \u001b[1m20s\u001b[0m 353ms/step - loss: 0.4027 - sparse_categorical_accuracy: 0.5901\n",
            "Epoch 5/20\n",
            "\u001b[1m55/55\u001b[0m \u001b[32m━━━━━━━━━━━━━━━━━━━━\u001b[0m\u001b[37m\u001b[0m \u001b[1m20s\u001b[0m 357ms/step - loss: 0.3239 - sparse_categorical_accuracy: 0.6694\n",
            "Epoch 6/20\n",
            "\u001b[1m55/55\u001b[0m \u001b[32m━━━━━━━━━━━━━━━━━━━━\u001b[0m\u001b[37m\u001b[0m \u001b[1m20s\u001b[0m 360ms/step - loss: 0.2710 - sparse_categorical_accuracy: 0.7139\n",
            "Epoch 7/20\n",
            "\u001b[1m55/55\u001b[0m \u001b[32m━━━━━━━━━━━━━━━━━━━━\u001b[0m\u001b[37m\u001b[0m \u001b[1m20s\u001b[0m 362ms/step - loss: 0.2364 - sparse_categorical_accuracy: 0.7401\n",
            "Epoch 8/20\n",
            "\u001b[1m55/55\u001b[0m \u001b[32m━━━━━━━━━━━━━━━━━━━━\u001b[0m\u001b[37m\u001b[0m \u001b[1m20s\u001b[0m 366ms/step - loss: 0.2071 - sparse_categorical_accuracy: 0.7572\n",
            "Epoch 9/20\n",
            "\u001b[1m55/55\u001b[0m \u001b[32m━━━━━━━━━━━━━━━━━━━━\u001b[0m\u001b[37m\u001b[0m \u001b[1m20s\u001b[0m 367ms/step - loss: 0.1819 - sparse_categorical_accuracy: 0.7796\n",
            "Epoch 10/20\n",
            "\u001b[1m55/55\u001b[0m \u001b[32m━━━━━━━━━━━━━━━━━━━━\u001b[0m\u001b[37m\u001b[0m \u001b[1m20s\u001b[0m 366ms/step - loss: 0.1591 - sparse_categorical_accuracy: 0.8107\n",
            "Epoch 11/20\n",
            "\u001b[1m55/55\u001b[0m \u001b[32m━━━━━━━━━━━━━━━━━━━━\u001b[0m\u001b[37m\u001b[0m \u001b[1m20s\u001b[0m 364ms/step - loss: 0.1375 - sparse_categorical_accuracy: 0.8382\n",
            "Epoch 12/20\n",
            "\u001b[1m55/55\u001b[0m \u001b[32m━━━━━━━━━━━━━━━━━━━━\u001b[0m\u001b[37m\u001b[0m \u001b[1m20s\u001b[0m 364ms/step - loss: 0.1182 - sparse_categorical_accuracy: 0.8720\n",
            "Epoch 13/20\n",
            "\u001b[1m55/55\u001b[0m \u001b[32m━━━━━━━━━━━━━━━━━━━━\u001b[0m\u001b[37m\u001b[0m \u001b[1m20s\u001b[0m 364ms/step - loss: 0.1031 - sparse_categorical_accuracy: 0.8984\n",
            "Epoch 14/20\n",
            "\u001b[1m55/55\u001b[0m \u001b[32m━━━━━━━━━━━━━━━━━━━━\u001b[0m\u001b[37m\u001b[0m \u001b[1m20s\u001b[0m 365ms/step - loss: 0.0918 - sparse_categorical_accuracy: 0.9162\n",
            "Epoch 15/20\n",
            "\u001b[1m55/55\u001b[0m \u001b[32m━━━━━━━━━━━━━━━━━━━━\u001b[0m\u001b[37m\u001b[0m \u001b[1m20s\u001b[0m 365ms/step - loss: 0.0827 - sparse_categorical_accuracy: 0.9284\n",
            "Epoch 16/20\n",
            "\u001b[1m55/55\u001b[0m \u001b[32m━━━━━━━━━━━━━━━━━━━━\u001b[0m\u001b[37m\u001b[0m \u001b[1m20s\u001b[0m 365ms/step - loss: 0.0756 - sparse_categorical_accuracy: 0.9363\n",
            "Epoch 17/20\n",
            "\u001b[1m55/55\u001b[0m \u001b[32m━━━━━━━━━━━━━━━━━━━━\u001b[0m\u001b[37m\u001b[0m \u001b[1m20s\u001b[0m 365ms/step - loss: 0.0701 - sparse_categorical_accuracy: 0.9412\n",
            "Epoch 18/20\n",
            "\u001b[1m55/55\u001b[0m \u001b[32m━━━━━━━━━━━━━━━━━━━━\u001b[0m\u001b[37m\u001b[0m \u001b[1m20s\u001b[0m 366ms/step - loss: 0.0655 - sparse_categorical_accuracy: 0.9463\n",
            "Epoch 19/20\n",
            "\u001b[1m55/55\u001b[0m \u001b[32m━━━━━━━━━━━━━━━━━━━━\u001b[0m\u001b[37m\u001b[0m \u001b[1m20s\u001b[0m 366ms/step - loss: 0.0621 - sparse_categorical_accuracy: 0.9515\n",
            "Epoch 20/20\n",
            "\u001b[1m55/55\u001b[0m \u001b[32m━━━━━━━━━━━━━━━━━━━━\u001b[0m\u001b[37m\u001b[0m \u001b[1m20s\u001b[0m 365ms/step - loss: 0.0586 - sparse_categorical_accuracy: 0.9558\n"
          ]
        },
        {
          "output_type": "execute_result",
          "data": {
            "text/plain": [
              "<keras.src.callbacks.history.History at 0x7f02b4215210>"
            ]
          },
          "metadata": {},
          "execution_count": 15
        }
      ],
      "source": [
        "# Limit the input sequence length to 512 (to control memory usage).\n",
        "gemma_lm.preprocessor.sequence_length = 512\n",
        "# Use AdamW (a common optimizer for transformer models).\n",
        "optimizer = keras.optimizers.AdamW(\n",
        "    learning_rate=5e-5,\n",
        "    weight_decay=0.01,\n",
        ")\n",
        "# Exclude layernorm and bias terms from decay.\n",
        "optimizer.exclude_from_weight_decay(var_names=[\"bias\", \"scale\"])\n",
        "\n",
        "gemma_lm.compile(\n",
        "    loss=keras.losses.SparseCategoricalCrossentropy(from_logits=True),\n",
        "    optimizer=optimizer,\n",
        ")\n",
        "gemma_lm.fit(data, epochs=20, batch_size=1)"
      ]
    },
    {
      "cell_type": "markdown",
      "metadata": {
        "id": "4yd-1cNw1dTn"
      },
      "source": [
        "## Inference after fine-tuning\n",
        "After fine-tuning, responses follow the instruction provided in the prompt."
      ]
    },
    {
      "cell_type": "markdown",
      "metadata": {
        "id": "H55JYJ1a1Kos"
      },
      "source": [
        "### Chatting"
      ]
    },
    {
      "cell_type": "code",
      "execution_count": 16,
      "metadata": {
        "id": "Y7cDJHy8WfCB",
        "outputId": "988d05ac-fed0-49fe-d79a-42252e2bddb0",
        "colab": {
          "base_uri": "https://localhost:8080/",
          "height": 266
        }
      },
      "outputs": [
        {
          "output_type": "execute_result",
          "data": {
            "text/plain": [
              "<IPython.core.display.Markdown object>"
            ],
            "text/markdown": "<font size='+1' color='brown'>🙋‍♂️<blockquote>Apakah kamu pernah tau mengenai apa itu iSTTS?</blockquote></font><font size='+1' color='teal'>🤖\n\n> Context adalah iSTTS merupakan sekolah teknik terbaik di Jawa Timur, dan memiliki beberapa fasilitas terbaik seperti laboratorium terlengkap, serta memiliki beberapa program studi terbaik seperti program studi teknik mesin\n> Jadi jawabannya adalah iSTTS merupakan sekolah teknik terbaik di Jawa Timur, dan memiliki beberapa fasilitas terbaik seperti laboratorium terlengkap, serta memiliki beberapa program studi terbaik seperti program studi teknik mesin<end_of_turn>\n\n</font>"
          },
          "metadata": {},
          "execution_count": 16
        }
      ],
      "source": [
        "chat = ChatState(gemma_lm)\n",
        "message = \"Apakah kamu pernah tau mengenai apa itu iSTTS?\"\n",
        "display_chat(message, chat.send_message(message))"
      ]
    }
  ],
  "metadata": {
    "accelerator": "GPU",
    "colab": {
      "gpuType": "L4",
      "provenance": [],
      "machine_shape": "hm",
      "include_colab_link": true
    },
    "kernelspec": {
      "display_name": "Python 3",
      "name": "python3"
    }
  },
  "nbformat": 4,
  "nbformat_minor": 0
}